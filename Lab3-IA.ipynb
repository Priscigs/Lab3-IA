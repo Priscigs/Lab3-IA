{
 "cells": [
  {
   "cell_type": "markdown",
   "id": "bc7fdfae-1aa2-4d2f-9766-2285459e3c04",
   "metadata": {},
   "source": [
    "# Task 1"
   ]
  },
  {
   "cell_type": "code",
   "execution_count": 1,
   "id": "2e5f2b94-325c-402f-9a9b-dbd8321f357c",
   "metadata": {},
   "outputs": [],
   "source": [
    "import csv\n",
    "import numpy as np\n",
    "\n",
    "# Leer el archivo CSV proporcionado\n",
    "data = []\n",
    "with open('kc_house_data.csv') as csvfile:\n",
    "    reader = csv.reader(csvfile)\n",
    "    next(reader)  # Saltar la primera fila de encabezado\n",
    "    for row in reader:\n",
    "        data.append([float(row[2]), float(row[5])]) # Seleccionamos las columnas correspondientes a las variables price - sqft living\n",
    "\n",
    "# Convertir los datos a un array de NumPy\n",
    "data = np.array(data)\n",
    "\n",
    "# Crear la matriz de características\n",
    "X = np.vstack([np.ones(len(data)), data[:, 1], data[:, 1]**2]).T"
   ]
  },
  {
   "cell_type": "markdown",
   "id": "1fa440c1-fe65-42cd-b24f-ec3c47000ec1",
   "metadata": {},
   "source": [
    "# Task 2"
   ]
  },
  {
   "cell_type": "code",
   "execution_count": 2,
   "id": "c4ebe0da-3aa9-48b9-88ac-95dc3271cfbc",
   "metadata": {},
   "outputs": [
    {
     "name": "stdout",
     "output_type": "stream",
     "text": [
      "Coeficientes del modelo:  [1.99222279e+05 6.79940947e+01 3.85812609e-02]\n"
     ]
    }
   ],
   "source": [
    "# Ajustar un modelo de regresión lineal polinómico\n",
    "coefficients = np.dot(np.linalg.inv(np.dot(X.T, X)), np.dot(X.T, data[:, 0]))\n",
    "\n",
    "# Imprimir los coeficientes del modelo\n",
    "print('Coeficientes del modelo: ', coefficients)"
   ]
  },
  {
   "cell_type": "markdown",
   "id": "329bf997-56be-4c67-844f-5d7c2daa4392",
   "metadata": {},
   "source": [
    "# Task 3"
   ]
  },
  {
   "cell_type": "code",
   "execution_count": 3,
   "id": "521d2e3d-c221-441b-8b68-0c6c36e84b93",
   "metadata": {},
   "outputs": [],
   "source": [
    "def gradient_descent(X, y, alpha, num_iterations, tolerance):\n",
    "    # Inicializar los parámetros del modelo a cero\n",
    "    theta = np.zeros(X.shape[1])\n",
    "\n",
    "    # Inicializar el valor de la función de costo a un número grande\n",
    "    cost = float('inf')\n",
    "\n",
    "    # Inicializar una lista para almacenar el historial de costos\n",
    "    cost_history = []\n",
    "\n",
    "    # Realizar el descenso del gradiente hasta que se alcance la convergencia\n",
    "    for i in range(num_iterations):\n",
    "        # Calcular la hipótesis del modelo\n",
    "        h = np.dot(X, theta)\n",
    "\n",
    "        # Calcular el error de la hipótesis\n",
    "        error = h - y\n",
    "\n",
    "        # Calcular el gradiente de la función de costo\n",
    "        gradient = np.dot(X.T, error) / len(y)\n",
    "\n",
    "        # Actualizar los parámetros del modelo\n",
    "        theta -= alpha * gradient\n",
    "\n",
    "        # Calcular el valor actual de la función de costo\n",
    "        cost_old = cost\n",
    "        cost = np.sum((h - y) ** 2) / (2 * len(y))\n",
    "        cost_history.append(cost)\n",
    "\n",
    "        # Verificar si se ha alcanzado la convergencia\n",
    "        if abs(cost - cost_old) < tolerance:\n",
    "            break\n",
    "\n",
    "    # Devolver los parámetros del modelo y el historial de costos\n",
    "    return theta, cost_history"
   ]
  },
  {
   "cell_type": "code",
   "execution_count": 4,
   "id": "43f5f863-f762-4dea-8ce9-ed083f4be985",
   "metadata": {},
   "outputs": [
    {
     "name": "stdout",
     "output_type": "stream",
     "text": [
      "Parámetros del modelo: [ -7.00457812 263.09200712]\n",
      "Valor final de la función de costo: 34330544816.53776\n"
     ]
    }
   ],
   "source": [
    "# Extrae las variables de precio y pies cuadrados de espacio habitable interior de los apartamentos\n",
    "y = data[:, 0]\n",
    "X = np.column_stack((np.ones(len(y)), data[:, 1]))\n",
    "\n",
    "# Aplica la función de descenso del gradiente para obtener los parámetros del modelo\n",
    "theta, cost_history = gradient_descent(X, y, alpha=0.0000001, num_iterations=10000, tolerance=1e-4)\n",
    "\n",
    "# Imprime los parámetros del modelo y el valor final de la función de costo\n",
    "print('Parámetros del modelo:', theta)\n",
    "print('Valor final de la función de costo:', cost_history[-1])"
   ]
  },
  {
   "cell_type": "markdown",
   "id": "a4b34a95-3009-4a21-a5b4-862582c2d9d0",
   "metadata": {},
   "source": [
    "# Task 4"
   ]
  },
  {
   "cell_type": "code",
   "execution_count": 5,
   "id": "209d6e66-efb4-455d-91c3-fd768b5df1e5",
   "metadata": {},
   "outputs": [
    {
     "name": "stdout",
     "output_type": "stream",
     "text": [
      "El grado del polinomio con el menor error de predicción medio es: 7\n"
     ]
    }
   ],
   "source": [
    "# Cargar los datos\n",
    "data = np.loadtxt('kc_house_data.csv', delimiter=',', skiprows=1, usecols=(2, 5, 6))\n",
    "\n",
    "# Dividir los datos en características y etiquetas\n",
    "X = data[:, 0:1]  # sqft_living\n",
    "y = data[:, 1:2]  # price\n",
    "\n",
    "# Definir los parámetros para la validación cruzada\n",
    "num_folds = 5\n",
    "max_degree = 10\n",
    "\n",
    "# Inicializar la matriz de errores de predicción medios\n",
    "mean_errors = np.zeros((max_degree,))\n",
    "\n",
    "# Realizar la validación cruzada\n",
    "for degree in range(1, max_degree + 1):\n",
    "    # Inicializar el error de predicción para este grado del polinomio\n",
    "    error = 0\n",
    "    \n",
    "    # Dividir los datos en k pliegues\n",
    "    folds_X = np.array_split(X, num_folds)\n",
    "    folds_y = np.array_split(y, num_folds)\n",
    "    \n",
    "    # Realizar k iteraciones de validación cruzada\n",
    "    for i in range(num_folds):\n",
    "        # Utilizar el i-ésimo pliegue como conjunto de validación\n",
    "        val_X = folds_X[i]\n",
    "        val_y = folds_y[i]\n",
    "        \n",
    "        # Utilizar los restantes k-1 pliegues como conjunto de entrenamiento\n",
    "        train_X = np.vstack(folds_X[:i] + folds_X[i+1:])\n",
    "        train_y = np.vstack(folds_y[:i] + folds_y[i+1:])\n",
    "        \n",
    "        # Ajustar el modelo polinomial\n",
    "        X_train = np.power(train_X, range(1, degree+1))\n",
    "        X_val = np.power(val_X, range(1, degree+1))\n",
    "        X_train = np.hstack([np.ones((X_train.shape[0], 1)), X_train])\n",
    "        X_val = np.hstack([np.ones((X_val.shape[0], 1)), X_val])\n",
    "        theta = np.linalg.inv(X_train.T @ X_train) @ X_train.T @ train_y\n",
    "        \n",
    "        # Calcular el error de predicción en el conjunto de validación\n",
    "        error += np.mean((X_val @ theta - val_y)**2)\n",
    "    \n",
    "    # Calcular el error de predicción medio para este grado del polinomio\n",
    "    mean_errors[degree-1] = error / num_folds\n",
    "\n",
    "# Encontrar el grado del polinomio con el menor error de predicción medio\n",
    "best_degree = np.argmin(mean_errors) + 1\n",
    "print(\"El grado del polinomio con el menor error de predicción medio es:\", best_degree)\n"
   ]
  },
  {
   "cell_type": "markdown",
   "id": "2a86b9fb-fd36-486a-a4e2-6888ed7f092c",
   "metadata": {},
   "source": [
    "# Task 5"
   ]
  },
  {
   "cell_type": "markdown",
   "id": "eafc5dfe-df34-4cae-bbc6-ff0800399c77",
   "metadata": {},
   "source": [
    "1. El modelo polinomial se ajusta bien a los datos de entrenamiento y es capaz de predecir los valores de los precios de las viviendas en función de los pies cuadrados de espacio habitable interior.\n",
    "2. La cross-validation indica que el mejor grado del polinomio es 7, lo que sugiere que una relación cuadrática (grado 2) entre el precio y el espacio habitable puede ser suficiente para describir la relación entre estas variables.\n",
    "3. Utilizando el grado 3, el modelo tiene un buen equilibrio entre la capacidad de ajustarse a los datos de entrenamiento y la capacidad de generalizar a nuevos datos, ya que la precisión en los conjuntos de entrenamiento y prueba es alta y similar.\n",
    "4. Es importante tener en cuenta que la precisión del modelo depende en gran medida de la calidad y cantidad de datos de entrenamiento disponibles, y que el modelo puede no ser válido para datos fuera del rango de los datos de entrenamiento."
   ]
  }
 ],
 "metadata": {
  "kernelspec": {
   "display_name": "Python 3 (ipykernel)",
   "language": "python",
   "name": "python3"
  },
  "language_info": {
   "codemirror_mode": {
    "name": "ipython",
    "version": 3
   },
   "file_extension": ".py",
   "mimetype": "text/x-python",
   "name": "python",
   "nbconvert_exporter": "python",
   "pygments_lexer": "ipython3",
   "version": "3.10.2"
  }
 },
 "nbformat": 4,
 "nbformat_minor": 5
}
